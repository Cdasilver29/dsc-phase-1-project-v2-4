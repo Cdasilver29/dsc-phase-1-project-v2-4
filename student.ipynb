{
 "cells": [
  {
   "cell_type": "markdown",
   "metadata": {},
   "source": [
    "## Final Project Submission\n",
    "\n",
    "Please fill out:\n",
    "* Student name: Calvine Dasilver\n",
    "* Student pace: full time\n",
    "* Scheduled project review date/time: N/A\n",
    "* Instructor name: Nikita\n",
    "* Blog post URL:\n"
   ]
  },
  {
   "cell_type": "markdown",
   "metadata": {},
   "source": [
    "# BOX OFFICE INSIGHTS FOR MICROSOFT STUDIOS "
   ]
  },
  {
   "cell_type": "markdown",
   "metadata": {},
   "source": [
    "## 1. INTRODUCTION\n",
    "## 1.1 Overview\n",
    "\n",
    "\n",
    " This document outlines the initial steps for Microsoft's foray into the film industry. Recognizing the growing trend of original content creation, Microsoft aims to establish a new movie studio. However, lacking film industry expertise, they require market research to guide their content strategy.          "
   ]
  },
  {
   "cell_type": "markdown",
   "metadata": {},
   "source": [
    "## 1.2 Objectives\n",
    "\n",
    "### a) General Objective\n",
    "  \n",
    "  \n",
    "  \n",
    "  Through exploration and analysis of top-performing films at the box office, this project aims to provide actionable insights for Microsoft's new movie studio regarding film genre selection.\n"
   ]
  },
  {
   "cell_type": "markdown",
   "metadata": {},
   "source": [
    "### b) Specific Objectives\n",
    "\n",
    "\n",
    "\n",
    "\n",
    " <li> Data understanding\n",
    "\n",
    " <li> Importing useful libraries\n",
    "\n",
    " <li> Retrieving data from a DataFrame\n",
    "\n",
    " <li> Data cleaning\n",
    "\n",
    " <li> Exploratory data analysis\n",
    "\n",
    " <li> Data visualization\n",
    " \n",
    " <li> Conclusions and Recommendations"
   ]
  },
  {
   "cell_type": "markdown",
   "metadata": {},
   "source": []
  },
  {
   "cell_type": "markdown",
   "metadata": {},
   "source": []
  },
  {
   "cell_type": "markdown",
   "metadata": {},
   "source": [
    "### <li> Data Understanding\n",
    "\n",
    "\n",
    "The dataset used for this project contains information about film box office revenues including variables such as release dates, genres, budgets and revenues. Explanatory data analysis techniques will be used to get clear understanding of the dataset including handling missing values, checking data types, identifying outliers and placeholder values and also extracting relevant features for analysis."
   ]
  }
 ],
 "metadata": {
  "kernelspec": {
   "display_name": "Python 3",
   "language": "python",
   "name": "python3"
  },
  "language_info": {
   "codemirror_mode": {
    "name": "ipython",
    "version": 3
   },
   "file_extension": ".py",
   "mimetype": "text/x-python",
   "name": "python",
   "nbconvert_exporter": "python",
   "pygments_lexer": "ipython3",
   "version": "3.8.5"
  }
 },
 "nbformat": 4,
 "nbformat_minor": 2
}
