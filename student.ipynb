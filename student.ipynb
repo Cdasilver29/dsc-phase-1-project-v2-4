{
 "cells": [
  {
   "cell_type": "markdown",
   "metadata": {},
   "source": [
    "## Final Project Submission\n",
    "\n",
    "Please fill out:\n",
    "* Student name: Calvine Dasilver\n",
    "* Student pace: full time\n",
    "* Scheduled project review date/time: N/A\n",
    "* Instructor name: Nikita\n",
    "* Blog post URL:\n"
   ]
  },
  {
   "cell_type": "markdown",
   "metadata": {},
   "source": [
    "# BOX OFFICE INSIGHTS FOR MICROSOFT STUDIOS "
   ]
  },
  {
   "cell_type": "markdown",
   "metadata": {},
   "source": [
    "## 1. INTRODUCTION\n",
    "## 1.1 Overview\n",
    "\n",
    "\n",
    " This document outlines the initial steps for Microsoft's foray into the film industry. Recognizing the growing trend of original content creation, Microsoft aims to establish a new movie studio. However, lacking film industry expertise, they require market research to guide their content strategy.          "
   ]
  },
  {
   "cell_type": "markdown",
   "metadata": {},
   "source": [
    "## 1.2 Objectives\n",
    "\n",
    "### a) General Objective\n",
    "  \n",
    "  \n",
    "  \n",
    "  Through exploration and analysis of top-performing films at the box office, this project aims to provide actionable insights for Microsoft's new movie studio regarding film genre selection.\n"
   ]
  },
  {
   "cell_type": "markdown",
   "metadata": {},
   "source": [
    "### b) Specific Objectives\n",
    "\n",
    "\n",
    "\n",
    "\n",
    " <li> Data understanding\n",
    "\n",
    " <li> Importing useful libraries\n",
    "\n",
    " <li> Retrieving data from a DataFrame\n",
    "\n",
    " <li> Data cleaning\n",
    "\n",
    " <li> Exploratory data analysis\n",
    "\n",
    " <li> Data visualization\n",
    " \n",
    " <li> Conclusions and Recommendations"
   ]
  },
  {
   "cell_type": "markdown",
   "metadata": {},
   "source": [
    "## 2.Data Source\n",
    "\n",
    "#### In the folder '_zippedData_' are movie datasets from:\n",
    "\n",
    "i. Box Office MojoLinks to an external site.\n",
    "\n",
    "ii. IMDBLinks to an external site.\n",
    "\n",
    "iii. Rotten TomatoesLinks to an external site.\n",
    "\n",
    "iv. TheMovieDBLinks to an external site.\n",
    "\n",
    "v. The NumbersLinks to an external site.\n",
    "\n",
    "#### Features of IMDB dataset consist of 8 tables \n",
    "\n",
    "| indexes | Table |\n",
    "|---|---|\n",
    "| 1. | movie_basics |\n",
    "| 2. | Known_for |\n",
    "| 3. | Movie_akas |\n",
    "| 4. | Movie_ratings |\n",
    "| 5. | directors |\n",
    "| 6. | Persons |\n",
    "| 7. | Principals |\n",
    "| 8. | Writers |\n"
   ]
  },
  {
   "cell_type": "markdown",
   "metadata": {},
   "source": [
    "## <li> Data Understanding\n",
    "\n",
    "\n",
    "The dataset used for this project contains information about film box office revenues including variables such as release dates, genres, budgets and revenues. Explanatory data analysis techniques will be used to get clear understanding of the dataset including handling missing values, checking data types, identifying outliers and placeholder values and also extracting relevant features for analysis."
   ]
  },
  {
   "cell_type": "markdown",
   "metadata": {},
   "source": [
    "The business problems that the project would like to answer are listed below :\n",
    "\n",
    "1.What types of movies do audiences favor? How long do popular films tend to be?\n",
    "\n",
    "2.What is the relationship between Financial Performance of a Movie and Financial Return on a Movie.\n",
    "\n",
    "3.The Influence of Reviews and Ratings on Movie Audiences."
   ]
  },
  {
   "cell_type": "markdown",
   "metadata": {},
   "source": [
    "## <li> Importing Usefull Libraries\n",
    "\n",
    "Import libraries with aliases for data manipulation"
   ]
  },
  {
   "cell_type": "code",
   "execution_count": 3,
   "metadata": {},
   "outputs": [],
   "source": [
    "# Your code here\n",
    "import pandas as pd\n",
    "import numpy as np\n",
    "import sqlite3\n",
    "import csv\n",
    "import json\n",
    "from datetime import datetime"
   ]
  },
  {
   "cell_type": "markdown",
   "metadata": {},
   "source": [
    "## 2.1 Importing the datasets\n",
    "\n",
    "#### Datasets:\n",
    "\n",
    "movie_gross_df = pd.read_csv('zippedData\\\\bom.movie_gross.csv.gz')\n",
    "\n",
    "movies_gross = pd.read_csv('zippedData/bom.movie_gross.csv')\n",
    "\n",
    "tmd = pd.read_csv('zippedData/tmdb.movies.csv',index_col=0)\n",
    "\n",
    "reviews = pd.read_csv('zippedData/rt.reviews.tsv', delimiter='\\t',encoding='unicode_escape')\n",
    "\n",
    "conn = sqlite3.connect('zippedData/im.db')\n",
    "\n",
    "movie_info = pd.read_csv('zippedData/rt.movie_info.tsv', delimiter ='\\t', encoding='unicode_escape' )"
   ]
  },
  {
   "cell_type": "markdown",
   "metadata": {},
   "source": [
    "creating varriable named _conn_ that connects sqlite database file named '_zippedData\\im.db_'.This _conn_ will be what you use to interact with the data in the databae"
   ]
  },
  {
   "cell_type": "code",
   "execution_count": 14,
   "metadata": {},
   "outputs": [
    {
     "data": {
      "text/plain": [
       "<sqlite3.Connection at 0x2243583f7b0>"
      ]
     },
     "execution_count": 14,
     "metadata": {},
     "output_type": "execute_result"
    }
   ],
   "source": [
    "conn = sqlite3.connect('zippedData\\im.db')\n",
    "conn"
   ]
  },
  {
   "cell_type": "markdown",
   "metadata": {},
   "source": [
    "##### 2.1.1 Loading the data from \"movie_gross.csv\" and exploring\n",
    "\n",
    "The \"bom dataset\" provides details about how much money movies made at the box office, both domestically (in the country where the movie was produced) and in foreign markets (outside the movie's home country). This dataset typically includes information such as the title of the movie, the amount of money it earned domestically, and the amount it earned in foreign markets. This information can be useful for understanding the financial success of movies and analyzing trends in the film industry."
   ]
  },
  {
   "cell_type": "code",
   "execution_count": 21,
   "metadata": {},
   "outputs": [
    {
     "data": {
      "text/html": [
       "<div>\n",
       "<style scoped>\n",
       "    .dataframe tbody tr th:only-of-type {\n",
       "        vertical-align: middle;\n",
       "    }\n",
       "\n",
       "    .dataframe tbody tr th {\n",
       "        vertical-align: top;\n",
       "    }\n",
       "\n",
       "    .dataframe thead th {\n",
       "        text-align: right;\n",
       "    }\n",
       "</style>\n",
       "<table border=\"1\" class=\"dataframe\">\n",
       "  <thead>\n",
       "    <tr style=\"text-align: right;\">\n",
       "      <th></th>\n",
       "      <th>title</th>\n",
       "      <th>studio</th>\n",
       "      <th>domestic_gross</th>\n",
       "      <th>foreign_gross</th>\n",
       "      <th>year</th>\n",
       "    </tr>\n",
       "  </thead>\n",
       "  <tbody>\n",
       "    <tr>\n",
       "      <th>0</th>\n",
       "      <td>Toy Story 3</td>\n",
       "      <td>BV</td>\n",
       "      <td>415000000.0</td>\n",
       "      <td>652000000</td>\n",
       "      <td>2010</td>\n",
       "    </tr>\n",
       "    <tr>\n",
       "      <th>1</th>\n",
       "      <td>Alice in Wonderland (2010)</td>\n",
       "      <td>BV</td>\n",
       "      <td>334200000.0</td>\n",
       "      <td>691300000</td>\n",
       "      <td>2010</td>\n",
       "    </tr>\n",
       "    <tr>\n",
       "      <th>2</th>\n",
       "      <td>Harry Potter and the Deathly Hallows Part 1</td>\n",
       "      <td>WB</td>\n",
       "      <td>296000000.0</td>\n",
       "      <td>664300000</td>\n",
       "      <td>2010</td>\n",
       "    </tr>\n",
       "    <tr>\n",
       "      <th>3</th>\n",
       "      <td>Inception</td>\n",
       "      <td>WB</td>\n",
       "      <td>292600000.0</td>\n",
       "      <td>535700000</td>\n",
       "      <td>2010</td>\n",
       "    </tr>\n",
       "    <tr>\n",
       "      <th>4</th>\n",
       "      <td>Shrek Forever After</td>\n",
       "      <td>P/DW</td>\n",
       "      <td>238700000.0</td>\n",
       "      <td>513900000</td>\n",
       "      <td>2010</td>\n",
       "    </tr>\n",
       "    <tr>\n",
       "      <th>5</th>\n",
       "      <td>The Twilight Saga: Eclipse</td>\n",
       "      <td>Sum.</td>\n",
       "      <td>300500000.0</td>\n",
       "      <td>398000000</td>\n",
       "      <td>2010</td>\n",
       "    </tr>\n",
       "    <tr>\n",
       "      <th>6</th>\n",
       "      <td>Iron Man 2</td>\n",
       "      <td>Par.</td>\n",
       "      <td>312400000.0</td>\n",
       "      <td>311500000</td>\n",
       "      <td>2010</td>\n",
       "    </tr>\n",
       "    <tr>\n",
       "      <th>7</th>\n",
       "      <td>Tangled</td>\n",
       "      <td>BV</td>\n",
       "      <td>200800000.0</td>\n",
       "      <td>391000000</td>\n",
       "      <td>2010</td>\n",
       "    </tr>\n",
       "    <tr>\n",
       "      <th>8</th>\n",
       "      <td>Despicable Me</td>\n",
       "      <td>Uni.</td>\n",
       "      <td>251500000.0</td>\n",
       "      <td>291600000</td>\n",
       "      <td>2010</td>\n",
       "    </tr>\n",
       "    <tr>\n",
       "      <th>9</th>\n",
       "      <td>How to Train Your Dragon</td>\n",
       "      <td>P/DW</td>\n",
       "      <td>217600000.0</td>\n",
       "      <td>277300000</td>\n",
       "      <td>2010</td>\n",
       "    </tr>\n",
       "    <tr>\n",
       "      <th>10</th>\n",
       "      <td>Clash of the Titans (2010)</td>\n",
       "      <td>WB</td>\n",
       "      <td>163200000.0</td>\n",
       "      <td>330000000</td>\n",
       "      <td>2010</td>\n",
       "    </tr>\n",
       "    <tr>\n",
       "      <th>11</th>\n",
       "      <td>The Chronicles of Narnia: The Voyage of the Da...</td>\n",
       "      <td>Fox</td>\n",
       "      <td>104400000.0</td>\n",
       "      <td>311300000</td>\n",
       "      <td>2010</td>\n",
       "    </tr>\n",
       "    <tr>\n",
       "      <th>12</th>\n",
       "      <td>The King's Speech</td>\n",
       "      <td>Wein.</td>\n",
       "      <td>135500000.0</td>\n",
       "      <td>275400000</td>\n",
       "      <td>2010</td>\n",
       "    </tr>\n",
       "    <tr>\n",
       "      <th>13</th>\n",
       "      <td>Tron Legacy</td>\n",
       "      <td>BV</td>\n",
       "      <td>172100000.0</td>\n",
       "      <td>228000000</td>\n",
       "      <td>2010</td>\n",
       "    </tr>\n",
       "    <tr>\n",
       "      <th>14</th>\n",
       "      <td>The Karate Kid</td>\n",
       "      <td>Sony</td>\n",
       "      <td>176600000.0</td>\n",
       "      <td>182500000</td>\n",
       "      <td>2010</td>\n",
       "    </tr>\n",
       "    <tr>\n",
       "      <th>15</th>\n",
       "      <td>Prince of Persia: The Sands of Time</td>\n",
       "      <td>BV</td>\n",
       "      <td>90800000.0</td>\n",
       "      <td>245600000</td>\n",
       "      <td>2010</td>\n",
       "    </tr>\n",
       "    <tr>\n",
       "      <th>16</th>\n",
       "      <td>Black Swan</td>\n",
       "      <td>FoxS</td>\n",
       "      <td>107000000.0</td>\n",
       "      <td>222400000</td>\n",
       "      <td>2010</td>\n",
       "    </tr>\n",
       "    <tr>\n",
       "      <th>17</th>\n",
       "      <td>Megamind</td>\n",
       "      <td>P/DW</td>\n",
       "      <td>148400000.0</td>\n",
       "      <td>173500000</td>\n",
       "      <td>2010</td>\n",
       "    </tr>\n",
       "    <tr>\n",
       "      <th>18</th>\n",
       "      <td>Robin Hood</td>\n",
       "      <td>Uni.</td>\n",
       "      <td>105300000.0</td>\n",
       "      <td>216400000</td>\n",
       "      <td>2010</td>\n",
       "    </tr>\n",
       "    <tr>\n",
       "      <th>19</th>\n",
       "      <td>The Last Airbender</td>\n",
       "      <td>Par.</td>\n",
       "      <td>131800000.0</td>\n",
       "      <td>187900000</td>\n",
       "      <td>2010</td>\n",
       "    </tr>\n",
       "  </tbody>\n",
       "</table>\n",
       "</div>"
      ],
      "text/plain": [
       "                                                title studio  domestic_gross  \\\n",
       "0                                         Toy Story 3     BV     415000000.0   \n",
       "1                          Alice in Wonderland (2010)     BV     334200000.0   \n",
       "2         Harry Potter and the Deathly Hallows Part 1     WB     296000000.0   \n",
       "3                                           Inception     WB     292600000.0   \n",
       "4                                 Shrek Forever After   P/DW     238700000.0   \n",
       "5                          The Twilight Saga: Eclipse   Sum.     300500000.0   \n",
       "6                                          Iron Man 2   Par.     312400000.0   \n",
       "7                                             Tangled     BV     200800000.0   \n",
       "8                                       Despicable Me   Uni.     251500000.0   \n",
       "9                            How to Train Your Dragon   P/DW     217600000.0   \n",
       "10                         Clash of the Titans (2010)     WB     163200000.0   \n",
       "11  The Chronicles of Narnia: The Voyage of the Da...    Fox     104400000.0   \n",
       "12                                  The King's Speech  Wein.     135500000.0   \n",
       "13                                        Tron Legacy     BV     172100000.0   \n",
       "14                                     The Karate Kid   Sony     176600000.0   \n",
       "15                Prince of Persia: The Sands of Time     BV      90800000.0   \n",
       "16                                         Black Swan   FoxS     107000000.0   \n",
       "17                                           Megamind   P/DW     148400000.0   \n",
       "18                                         Robin Hood   Uni.     105300000.0   \n",
       "19                                 The Last Airbender   Par.     131800000.0   \n",
       "\n",
       "   foreign_gross  year  \n",
       "0      652000000  2010  \n",
       "1      691300000  2010  \n",
       "2      664300000  2010  \n",
       "3      535700000  2010  \n",
       "4      513900000  2010  \n",
       "5      398000000  2010  \n",
       "6      311500000  2010  \n",
       "7      391000000  2010  \n",
       "8      291600000  2010  \n",
       "9      277300000  2010  \n",
       "10     330000000  2010  \n",
       "11     311300000  2010  \n",
       "12     275400000  2010  \n",
       "13     228000000  2010  \n",
       "14     182500000  2010  \n",
       "15     245600000  2010  \n",
       "16     222400000  2010  \n",
       "17     173500000  2010  \n",
       "18     216400000  2010  \n",
       "19     187900000  2010  "
      ]
     },
     "execution_count": 21,
     "metadata": {},
     "output_type": "execute_result"
    }
   ],
   "source": [
    "#Load the data from bom.movie_gross.csv into a dataframe\n",
    "movie_gross_df = pd.read_csv('zippedData\\\\bom.movie_gross.csv.gz')\n",
    "movie_gross_df.head(20)"
   ]
  },
  {
   "cell_type": "code",
   "execution_count": 23,
   "metadata": {},
   "outputs": [
    {
     "data": {
      "text/plain": [
       "(3387, 5)"
      ]
     },
     "execution_count": 23,
     "metadata": {},
     "output_type": "execute_result"
    }
   ],
   "source": [
    "#shape of the dataframe\n",
    "movie_gross_df.shape"
   ]
  },
  {
   "cell_type": "code",
   "execution_count": 16,
   "metadata": {},
   "outputs": [
    {
     "name": "stdout",
     "output_type": "stream",
     "text": [
      "<class 'pandas.core.frame.DataFrame'>\n",
      "RangeIndex: 3387 entries, 0 to 3386\n",
      "Data columns (total 5 columns):\n",
      " #   Column          Non-Null Count  Dtype  \n",
      "---  ------          --------------  -----  \n",
      " 0   title           3387 non-null   object \n",
      " 1   studio          3382 non-null   object \n",
      " 2   domestic_gross  3359 non-null   float64\n",
      " 3   foreign_gross   2037 non-null   object \n",
      " 4   year            3387 non-null   int64  \n",
      "dtypes: float64(1), int64(1), object(3)\n",
      "memory usage: 132.4+ KB\n"
     ]
    }
   ],
   "source": [
    "#find the information of the dataframe\n",
    "movie_gross_df.info() "
   ]
  },
  {
   "cell_type": "code",
   "execution_count": 19,
   "metadata": {},
   "outputs": [
    {
     "data": {
      "text/plain": [
       "count    3.359000e+03\n",
       "mean     2.874585e+07\n",
       "std      6.698250e+07\n",
       "min      1.000000e+02\n",
       "25%      1.200000e+05\n",
       "50%      1.400000e+06\n",
       "75%      2.790000e+07\n",
       "max      9.367000e+08\n",
       "Name: domestic_gross, dtype: float64"
      ]
     },
     "execution_count": 19,
     "metadata": {},
     "output_type": "execute_result"
    }
   ],
   "source": [
    "#find the overview of the domestic_gross\n",
    "movie_gross_df['domestic_gross'].describe()\n"
   ]
  },
  {
   "cell_type": "code",
   "execution_count": 20,
   "metadata": {},
   "outputs": [
    {
     "data": {
      "text/plain": [
       "count        2037\n",
       "unique       1204\n",
       "top       1200000\n",
       "freq           23\n",
       "Name: foreign_gross, dtype: object"
      ]
     },
     "execution_count": 20,
     "metadata": {},
     "output_type": "execute_result"
    }
   ],
   "source": [
    "#find the overview of the foreign_gross\n",
    "movie_gross_df['foreign_gross'].describe()"
   ]
  },
  {
   "cell_type": "code",
   "execution_count": 34,
   "metadata": {},
   "outputs": [
    {
     "data": {
      "text/plain": [
       "IFC      166\n",
       "Uni.     147\n",
       "WB       140\n",
       "Fox      136\n",
       "Magn.    136\n",
       "        ... \n",
       "Truly      1\n",
       "SEA        1\n",
       "EF         1\n",
       "FOR        1\n",
       "TVC        1\n",
       "Name: studio, Length: 257, dtype: int64"
      ]
     },
     "execution_count": 34,
     "metadata": {},
     "output_type": "execute_result"
    }
   ],
   "source": [
    "#number of studios in the dataframe\n",
    "movie_gross_df['studio'].value_counts()"
   ]
  },
  {
   "cell_type": "code",
   "execution_count": 35,
   "metadata": {},
   "outputs": [
    {
     "data": {
      "text/plain": [
       "array([2010, 2011, 2012, 2013, 2014, 2015, 2016, 2017, 2018], dtype=int64)"
      ]
     },
     "execution_count": 35,
     "metadata": {},
     "output_type": "execute_result"
    }
   ],
   "source": [
    "#the year duration\n",
    "movie_gross_df['year'].unique()"
   ]
  }
 ],
 "metadata": {
  "kernelspec": {
   "display_name": "Python 3",
   "language": "python",
   "name": "python3"
  },
  "language_info": {
   "codemirror_mode": {
    "name": "ipython",
    "version": 3
   },
   "file_extension": ".py",
   "mimetype": "text/x-python",
   "name": "python",
   "nbconvert_exporter": "python",
   "pygments_lexer": "ipython3",
   "version": "3.8.5"
  }
 },
 "nbformat": 4,
 "nbformat_minor": 2
}
